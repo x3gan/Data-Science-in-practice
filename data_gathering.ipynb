{
 "cells": [
  {
   "cell_type": "markdown",
   "id": "4f3423e7-f852-45cf-aa1b-77c112f82357",
   "metadata": {},
   "source": [
    "### Where to get data\n",
    "\n",
    "#### Institutional access\n",
    "company, organization, research lab\n",
    "\n",
    "#### Data repositories\n",
    "some allow download and exploration of datasets\n",
    "others offer APIs - request specific data form particular datasets\n",
    "\n",
    "#### Web scraping\n",
    "unstructured data directly from websites\n",
    "\n",
    "#### Asking people for data"
   ]
  },
  {
   "cell_type": "markdown",
   "id": "1722ef95-bbde-4bfa-8997-b8470c46e8b4",
   "metadata": {},
   "source": [
    "- Direct download data files from repositories\n",
    "\n",
    "- Query databases & use APIs to extract and collect data of interest\n",
    "\n",
    "- Ask people for data, and going to pick up data with a harddrive"
   ]
  },
  {
   "cell_type": "markdown",
   "id": "d963e573-4cc7-4673-9668-daeef86ac17b",
   "metadata": {},
   "source": [
    "#### Data Repositories\n",
    "A Data Repository is basically just a place that data is stored. For our purposes, it is a place you can download data from.\n",
    "- project materials -> data source: https://github.com/COGS108/Projects\n",
    "- data.gov\n",
    "\n",
    "### Application Program Interfaces (APIs)\n",
    "APIs are basically a way for software to talk to software - it is an interface into an application / website / database designed for software.\n",
    "\n",
    "To the browser, also known as the client, Facebook’s server is an API. This means that every time you visit a page on the Web, you interact with some remote server’s API.\n",
    "An API isn’t the same as the remote server — rather it is the part of the server that receives requests and sends responses."
   ]
  },
  {
   "cell_type": "markdown",
   "id": "f0bf0ec1-c9a8-4653-8088-8c0940b5141c",
   "metadata": {},
   "source": [
    "### Url reguest from Python"
   ]
  },
  {
   "cell_type": "code",
   "execution_count": 4,
   "id": "cb155b89-01bc-409d-8863-814af68f4872",
   "metadata": {},
   "outputs": [],
   "source": [
    "import pandas as pd\n",
    "import requests"
   ]
  },
  {
   "cell_type": "code",
   "execution_count": 6,
   "id": "fb41d276-d468-4c5a-a692-7d2aee3ff8b7",
   "metadata": {},
   "outputs": [
    {
     "name": "stdout",
     "output_type": "stream",
     "text": [
      "<Response [200]>\n"
     ]
    }
   ],
   "source": [
    "# reuest data from Github API on a certain user\n",
    "page = requests.get('http://api.github.com/users/tomdonoghue')\n",
    "\n",
    "print(page)"
   ]
  },
  {
   "cell_type": "code",
   "execution_count": 18,
   "id": "6a8a2987-b22a-4f2d-b6f4-abbf99e007d9",
   "metadata": {},
   "outputs": [],
   "source": [
    "page.content # we get the data back as a json file\n",
    "page_content = page.content.decode('utf-8')"
   ]
  },
  {
   "cell_type": "code",
   "execution_count": 19,
   "id": "c420a519-ae86-4ce2-9f51-b7ed4e7cb623",
   "metadata": {},
   "outputs": [
    {
     "name": "stderr",
     "output_type": "stream",
     "text": [
      "/tmp/ipykernel_6692/61900859.py:1: FutureWarning: Passing literal json to 'read_json' is deprecated and will be removed in a future version. To read from a literal string, wrap it in a 'StringIO' object.\n",
      "  pd.read_json(page_content ,typ='series')\n"
     ]
    },
    {
     "data": {
      "text/plain": [
       "login                                                        TomDonoghue\n",
       "id                                                               7727566\n",
       "node_id                                             MDQ6VXNlcjc3Mjc1NjY=\n",
       "avatar_url             https://avatars.githubusercontent.com/u/772756...\n",
       "gravatar_id                                                             \n",
       "url                             https://api.github.com/users/TomDonoghue\n",
       "html_url                                  https://github.com/TomDonoghue\n",
       "followers_url          https://api.github.com/users/TomDonoghue/follo...\n",
       "following_url          https://api.github.com/users/TomDonoghue/follo...\n",
       "gists_url              https://api.github.com/users/TomDonoghue/gists...\n",
       "starred_url            https://api.github.com/users/TomDonoghue/starr...\n",
       "subscriptions_url      https://api.github.com/users/TomDonoghue/subsc...\n",
       "organizations_url          https://api.github.com/users/TomDonoghue/orgs\n",
       "repos_url                 https://api.github.com/users/TomDonoghue/repos\n",
       "events_url             https://api.github.com/users/TomDonoghue/event...\n",
       "received_events_url    https://api.github.com/users/TomDonoghue/recei...\n",
       "type                                                                User\n",
       "site_admin                                                         False\n",
       "name                                                                 tom\n",
       "company                                                             None\n",
       "blog                                       https://tomdonoghue.github.io\n",
       "location                                                   New York City\n",
       "email                                                               None\n",
       "hireable                                                            None\n",
       "bio                    Researcher in cognitive & computational neuros...\n",
       "twitter_username                                             tomdonoghue\n",
       "public_repos                                                          21\n",
       "public_gists                                                           0\n",
       "followers                                                            251\n",
       "following                                                             96\n",
       "created_at                                          2014-05-28T20:20:48Z\n",
       "updated_at                                          2024-05-14T16:48:07Z\n",
       "dtype: object"
      ]
     },
     "execution_count": 19,
     "metadata": {},
     "output_type": "execute_result"
    }
   ],
   "source": [
    "pd.read_json(page_content ,typ='series')"
   ]
  },
  {
   "cell_type": "markdown",
   "id": "375b79c5-2550-4475-bc45-f7e680523a19",
   "metadata": {},
   "source": [
    "### Web scraping\n",
    "web scraping refers to using code to systematically navigate the internet, and extract information "
   ]
  },
  {
   "cell_type": "code",
   "execution_count": 21,
   "id": "f657a2c0-d784-4f83-a3d1-c5ba25be644b",
   "metadata": {},
   "outputs": [],
   "source": [
    "from bs4 import BeautifulSoup"
   ]
  },
  {
   "cell_type": "code",
   "execution_count": 22,
   "id": "e2746533-4825-41ae-b576-f38b65ca696a",
   "metadata": {},
   "outputs": [],
   "source": [
    "site_url = 'https://en.wikipedia.org/wiki/Data_science'"
   ]
  },
  {
   "cell_type": "code",
   "execution_count": 24,
   "id": "1dd4bed7-d7a3-4e38-b625-d770c15d78f3",
   "metadata": {},
   "outputs": [],
   "source": [
    "page = requests.get(site_url)"
   ]
  },
  {
   "cell_type": "code",
   "execution_count": 35,
   "id": "30d07b47-6609-420e-8f1c-b2a47a1b3d79",
   "metadata": {},
   "outputs": [
    {
     "data": {
      "text/plain": [
       "b'<!DOCTYPE html>\\n<html class=\"client-nojs vector-feature-language-in-header-enabled vector-feature-language-in-main-page-header-disabled vector-feature-sticky-header-disabled vector-feature-page-tools-pinned-disabled vector-feature-toc-pinned-clientpref-1 vector-feature-main-menu-pinned-disabled vector-feature-limited-width-clientpref-1 vector-feature-limited-width-content-enabled vector-feature-custom-font-size-clientpref-0 vector-feature-appearance-disabled vector-feature-appearance-pinned-clientpref-0 vector-feature-night-mode-disabled skin-theme-clientpref-day vector-toc-available\" lang=\"en\" dir=\"ltr\">\\n<head>\\n<meta charset=\"UTF-8\">\\n<title>Data science - Wikipedia</title>\\n<script>(function(){var className=\"client-js vector-feature-language-in-header-enabled vector-feature-language-in-main-page-header-disabled vector-feature-sticky-header-disabled vector-feature-page-tools-pinned-disabled vector-feature-toc-pinned-clientpref-1 vector-feature-main-menu-pinned-disabled vector-feature-li'"
      ]
     },
     "execution_count": 35,
     "metadata": {},
     "output_type": "execute_result"
    }
   ],
   "source": [
    "page.content[0:1000]"
   ]
  },
  {
   "cell_type": "code",
   "execution_count": 26,
   "id": "1cc7b3e5-f70a-47ea-aa5c-ce582c87564b",
   "metadata": {},
   "outputs": [],
   "source": [
    "soup = BeautifulSoup(page.content, 'html.parser')"
   ]
  },
  {
   "cell_type": "code",
   "execution_count": 27,
   "id": "6f4bc7e5-8ec2-4ac4-9430-4950a46b1035",
   "metadata": {},
   "outputs": [],
   "source": [
    "# because we parsed the page, we can select particular segments"
   ]
  },
  {
   "cell_type": "code",
   "execution_count": 28,
   "id": "13790fc4-97a0-492d-8077-4d07c9d77fb1",
   "metadata": {},
   "outputs": [
    {
     "name": "stdout",
     "output_type": "stream",
     "text": [
      "Title: \n",
      "<title>Data science - Wikipedia</title>\n"
     ]
    }
   ],
   "source": [
    "print(\"Title: \")\n",
    "print(soup.title)"
   ]
  },
  {
   "cell_type": "code",
   "execution_count": 34,
   "id": "1bf6e8fa-358d-4748-b538-17c389a16513",
   "metadata": {},
   "outputs": [
    {
     "name": "stdout",
     "output_type": "stream",
     "text": [
      "P-TAG: \n",
      "[<p class=\"mw-empty-elt\">\n",
      "</p>, <p><b>Data science</b> is an <a class=\"mw-redirect\" href=\"/wiki/Interdisciplinary\" title=\"Interdisciplinary\">interdisciplinary</a> academic field<sup class=\"reference\" id=\"cite_ref-1\"><a href=\"#cite_note-1\">[1]</a></sup> that uses <a href=\"/wiki/Statistics\" title=\"Statistics\">statistics</a>, <a class=\"mw-redirect\" href=\"/wiki/Scientific_computing\" title=\"Scientific computing\">scientific computing</a>, <a href=\"/wiki/Scientific_method\" title=\"Scientific method\">scientific methods</a>, processes, <a href=\"/wiki/Scientific_visualization\" title=\"Scientific visualization\">scientific visualization</a>, <a href=\"/wiki/Algorithm\" title=\"Algorithm\">algorithms</a> and systems to extract or extrapolate <a href=\"/wiki/Knowledge\" title=\"Knowledge\">knowledge</a> and insights from potentially noisy, structured, or <a href=\"/wiki/Unstructured_data\" title=\"Unstructured data\">unstructured data</a>.<sup class=\"reference\" id=\"cite_ref-2\"><a href=\"#cite_note-2\">[2]</a></sup>\n",
      "</p>, <p>Data science also integrates domain knowledge from the underlying application domain (e.g., natural sciences, information technology, and medicine).<sup class=\"reference\" id=\"cite_ref-3\"><a href=\"#cite_note-3\">[3]</a></sup> Data science is multifaceted and can be described as a science, a research paradigm, a research method, a discipline, a workflow, and a profession.<sup class=\"reference\" id=\"cite_ref-4\"><a href=\"#cite_note-4\">[4]</a></sup>\n",
      "</p>, <p>Data science is \"a concept to unify <a href=\"/wiki/Statistics\" title=\"Statistics\">statistics</a>, <a href=\"/wiki/Data_analysis\" title=\"Data analysis\">data analysis</a>, <a href=\"/wiki/Informatics\" title=\"Informatics\">informatics</a>, and their related <a href=\"/wiki/Scientific_method\" title=\"Scientific method\">methods</a>\" to \"understand and analyze actual <a class=\"mw-redirect\" href=\"/wiki/Phenomena\" title=\"Phenomena\">phenomena</a>\" with <a href=\"/wiki/Data\" title=\"Data\">data</a>.<sup class=\"reference\" id=\"cite_ref-5\"><a href=\"#cite_note-5\">[5]</a></sup> It uses techniques and theories drawn from many fields within the context of <a href=\"/wiki/Mathematics\" title=\"Mathematics\">mathematics</a>, statistics, <a href=\"/wiki/Computer_science\" title=\"Computer science\">computer science</a>, <a href=\"/wiki/Information_science\" title=\"Information science\">information science</a>, and <a href=\"/wiki/Domain_knowledge\" title=\"Domain knowledge\">domain knowledge</a>.<sup class=\"reference\" id=\"cite_ref-:2_6-0\"><a href=\"#cite_note-:2-6\">[6]</a></sup> However, data science is different from <a href=\"/wiki/Computer_science\" title=\"Computer science\">computer science</a> and information science. <a href=\"/wiki/Turing_Award\" title=\"Turing Award\">Turing Award</a> winner <a href=\"/wiki/Jim_Gray_(computer_scientist)\" title=\"Jim Gray (computer scientist)\">Jim Gray</a> imagined data science as a \"fourth paradigm\" of science (<a href=\"/wiki/Empirical_research\" title=\"Empirical research\">empirical</a>, <a href=\"/wiki/Basic_research\" title=\"Basic research\">theoretical</a>, <a href=\"/wiki/Computational_science\" title=\"Computational science\">computational</a>, and now data-driven) and asserted that \"everything about science is changing because of the impact of <a href=\"/wiki/Information_technology\" title=\"Information technology\">information technology</a>\" and the <a href=\"/wiki/Information_explosion\" title=\"Information explosion\">data deluge</a>.<sup class=\"reference\" id=\"cite_ref-TansleyTolle2009_7-0\"><a href=\"#cite_note-TansleyTolle2009-7\">[7]</a></sup><sup class=\"reference\" id=\"cite_ref-BellHey2009_8-0\"><a href=\"#cite_note-BellHey2009-8\">[8]</a></sup>\n",
      "</p>, <p>A <b> data scientist</b> is a professional who creates programming code and combines it with statistical knowledge to create insights from data.<sup class=\"reference\" id=\"cite_ref-9\"><a href=\"#cite_note-9\">[9]</a></sup>\n",
      "</p>, <p>Data science is an <a href=\"/wiki/Interdisciplinarity\" title=\"Interdisciplinarity\">interdisciplinary</a> <a href=\"/wiki/Academic_discipline\" title=\"Academic discipline\">field</a><sup class=\"reference\" id=\"cite_ref-10\"><a href=\"#cite_note-10\">[10]</a></sup> focused on <a href=\"/wiki/Knowledge_extraction\" title=\"Knowledge extraction\">extracting knowledge</a> from typically <a href=\"/wiki/Big_data\" title=\"Big data\">large</a> <a href=\"/wiki/Data_set\" title=\"Data set\">data sets</a> and applying the knowledge and insights from that data to <a class=\"mw-redirect\" href=\"/wiki/Problem-solving\" title=\"Problem-solving\">solve problems</a> in a wide range of application domains. The field encompasses preparing data for analysis, formulating data science problems, <a href=\"/wiki/Analysis\" title=\"Analysis\">analyzing</a> data, developing data-driven solutions, and presenting findings to inform high-level decisions in a broad range of application domains. As such, it incorporates skills from computer science, statistics, information science, mathematics, <a class=\"mw-redirect\" href=\"/wiki/Data_visualization\" title=\"Data visualization\">data visualization</a>, <a class=\"mw-redirect\" href=\"/wiki/Information_visualization\" title=\"Information visualization\">information visualization</a>, <a href=\"/wiki/Data_sonification\" title=\"Data sonification\">data sonification</a>, data <a href=\"/wiki/Data_integration\" title=\"Data integration\">integration</a>, <a href=\"/wiki/Graphic_design\" title=\"Graphic design\">graphic design</a>, <a class=\"mw-redirect\" href=\"/wiki/Complex_systems\" title=\"Complex systems\">complex systems</a>, <a href=\"/wiki/Communication\" title=\"Communication\">communication</a> and <a href=\"/wiki/Business\" title=\"Business\">business</a>.<sup class=\"reference\" id=\"cite_ref-11\"><a href=\"#cite_note-11\">[11]</a></sup><sup class=\"reference\" id=\"cite_ref-12\"><a href=\"#cite_note-12\">[12]</a></sup> Statistician <a href=\"/wiki/Nathan_Yau\" title=\"Nathan Yau\">Nathan Yau</a>, drawing on <a href=\"/wiki/Ben_Fry\" title=\"Ben Fry\">Ben Fry</a>, also links data science to <a href=\"/wiki/Human%E2%80%93computer_interaction\" title=\"Human–computer interaction\">human–computer interaction</a>: users should be able to intuitively control and <a href=\"/wiki/Exploration\" title=\"Exploration\">explore</a> data.<sup class=\"reference\" id=\"cite_ref-13\"><a href=\"#cite_note-13\">[13]</a></sup><sup class=\"reference\" id=\"cite_ref-14\"><a href=\"#cite_note-14\">[14]</a></sup> In 2015, the <a href=\"/wiki/American_Statistical_Association\" title=\"American Statistical Association\">American Statistical Association</a> identified <a href=\"/wiki/Database\" title=\"Database\">database</a> management, statistics and <a href=\"/wiki/Machine_learning\" title=\"Machine learning\">machine learning</a>, and <a href=\"/wiki/Distributed_computing\" title=\"Distributed computing\">distributed and parallel systems</a> as the three emerging foundational professional communities.<sup class=\"reference\" id=\"cite_ref-15\"><a href=\"#cite_note-15\">[15]</a></sup>\n",
      "</p>, <p>Many statisticians, including <a href=\"/wiki/Nate_Silver\" title=\"Nate Silver\">Nate Silver</a>, have argued that data science is not a new field, but rather another name for statistics.<sup class=\"reference\" id=\"cite_ref-16\"><a href=\"#cite_note-16\">[16]</a></sup> Others argue that data science is distinct from statistics because it focuses on problems and techniques unique to digital data.<sup class=\"reference\" id=\"cite_ref-17\"><a href=\"#cite_note-17\">[17]</a></sup> <a href=\"/wiki/Vasant_Dhar\" title=\"Vasant Dhar\">Vasant Dhar</a> writes that statistics emphasizes quantitative data and description. In contrast, data science deals with quantitative and qualitative data (e.g., from images, text, sensors, transactions, customer information, etc.) and emphasizes prediction and action.<sup class=\"reference\" id=\"cite_ref-18\"><a href=\"#cite_note-18\">[18]</a></sup> <a href=\"/wiki/Andrew_Gelman\" title=\"Andrew Gelman\">Andrew Gelman</a> of <a href=\"/wiki/Columbia_University\" title=\"Columbia University\">Columbia University</a> has described statistics as a non-essential part of data science.<sup class=\"reference\" id=\"cite_ref-19\"><a href=\"#cite_note-19\">[19]</a></sup>\n",
      "</p>, <p>Stanford professor <a href=\"/wiki/David_Donoho\" title=\"David Donoho\">David Donoho</a> writes that data science is not distinguished from statistics by the size of datasets or use of computing and that many graduate programs misleadingly advertise their analytics and statistics training as the essence of a data-science program. He describes data science as an applied field growing out of traditional statistics.<sup class=\"reference\" id=\"cite_ref-:7_20-0\"><a href=\"#cite_note-:7-20\">[20]</a></sup>\n",
      "</p>, <p>In 1962, <a href=\"/wiki/John_Tukey\" title=\"John Tukey\">John Tukey</a> described a field he called \"<a href=\"/wiki/Data_analysis\" title=\"Data analysis\">data analysis</a>\", which resembles modern data science.<sup class=\"reference\" id=\"cite_ref-:7_20-1\"><a href=\"#cite_note-:7-20\">[20]</a></sup> In 1985, in a lecture given to the Chinese Academy of Sciences in Beijing, <a href=\"/wiki/C._F._Jeff_Wu\" title=\"C. F. Jeff Wu\">C. F. Jeff Wu</a> used the term \"data science\" for the first time as an alternative name for statistics.<sup class=\"reference\" id=\"cite_ref-21\"><a href=\"#cite_note-21\">[21]</a></sup> Later, attendees at a 1992 statistics symposium at the <a href=\"/wiki/Montpellier_2_University\" title=\"Montpellier 2 University\">University of Montpellier  II</a> acknowledged the emergence of a new discipline focused on data of various origins and forms, combining established concepts and principles of statistics and data analysis with computing.<sup class=\"reference\" id=\"cite_ref-22\"><a href=\"#cite_note-22\">[22]</a></sup><sup class=\"reference\" id=\"cite_ref-Murtagh_2018_14_23-0\"><a href=\"#cite_note-Murtagh_2018_14-23\">[23]</a></sup>\n",
      "</p>, <p>The term \"data science\" has been traced back to 1974, when <a href=\"/wiki/Peter_Naur\" title=\"Peter Naur\">Peter Naur</a> proposed it as an alternative name to computer science.<sup class=\"reference\" id=\"cite_ref-:2_6-1\"><a href=\"#cite_note-:2-6\">[6]</a></sup> In 1996, the International Federation of Classification Societies became the first conference to specifically feature data science as a topic.<sup class=\"reference\" id=\"cite_ref-:2_6-2\"><a href=\"#cite_note-:2-6\">[6]</a></sup> However, the definition was still in flux. After the 1985 lecture at the Chinese Academy of Sciences in Beijing, in 1997 <a href=\"/wiki/C._F._Jeff_Wu\" title=\"C. F. Jeff Wu\">C. F. Jeff Wu</a> again suggested that statistics should be renamed data science. He reasoned that a new name would help statistics shed inaccurate stereotypes, such as being synonymous with accounting or limited to describing data.<sup class=\"reference\" id=\"cite_ref-24\"><a href=\"#cite_note-24\">[24]</a></sup> In 1998, Hayashi Chikio argued for data science as a new, interdisciplinary concept, with three aspects: data design, collection, and analysis.<sup class=\"reference\" id=\"cite_ref-Murtagh_2018_14_23-1\"><a href=\"#cite_note-Murtagh_2018_14-23\">[23]</a></sup>\n",
      "</p>, <p>During the 1990s, popular terms for the process of finding patterns in datasets (which were increasingly large) included \"knowledge discovery\" and \"<a href=\"/wiki/Data_mining\" title=\"Data mining\">data mining</a>\".<sup class=\"reference\" id=\"cite_ref-:2_6-3\"><a href=\"#cite_note-:2-6\">[6]</a></sup><sup class=\"reference\" id=\"cite_ref-:1_25-0\"><a href=\"#cite_note-:1-25\">[25]</a></sup>\n",
      "</p>, <p>In 2012, technologists <a href=\"/wiki/Thomas_H._Davenport\" title=\"Thomas H. Davenport\">Thomas H. Davenport</a> and <a href=\"/wiki/DJ_Patil\" title=\"DJ Patil\">DJ Patil</a> declared \"Data Scientist: The Sexiest Job of the 21st Century\",<sup class=\"reference\" id=\"cite_ref-26\"><a href=\"#cite_note-26\">[26]</a></sup> a catchphrase that was picked up even by major-city newspapers like the <a class=\"mw-redirect\" href=\"/wiki/New_York_Times\" title=\"New York Times\">New York Times</a><sup class=\"reference\" id=\"cite_ref-27\"><a href=\"#cite_note-27\">[27]</a></sup> and the <a class=\"mw-redirect\" href=\"/wiki/Boston_Globe\" title=\"Boston Globe\">Boston Globe</a>.<sup class=\"reference\" id=\"cite_ref-28\"><a href=\"#cite_note-28\">[28]</a></sup> A decade later, they reaffirmed it, stating that \"the job is more in demand than ever with employers\".<sup class=\"reference\" id=\"cite_ref-29\"><a href=\"#cite_note-29\">[29]</a></sup>\n",
      "</p>, <p>The modern conception of data science as an independent discipline is sometimes attributed to <a href=\"/wiki/William_S._Cleveland\" title=\"William S. Cleveland\">William S. Cleveland</a>.<sup class=\"reference\" id=\"cite_ref-30\"><a href=\"#cite_note-30\">[30]</a></sup> In a 2001 paper, he advocated an expansion of statistics beyond theory into technical areas; because this would significantly change the field, it warranted a new name.<sup class=\"reference\" id=\"cite_ref-:1_25-1\"><a href=\"#cite_note-:1-25\">[25]</a></sup> \"Data science\" became more widely used in the next few years: in 2002, the <a class=\"mw-redirect\" href=\"/wiki/Committee_on_Data_for_Science_and_Technology\" title=\"Committee on Data for Science and Technology\">Committee on Data for Science and Technology</a> launched the <i>Data Science Journal</i>. In 2003, Columbia University launched <i>The Journal of Data Science</i>.<sup class=\"reference\" id=\"cite_ref-:1_25-2\"><a href=\"#cite_note-:1-25\">[25]</a></sup> In 2014, the <a href=\"/wiki/American_Statistical_Association\" title=\"American Statistical Association\">American Statistical Association</a>'s Section on Statistical Learning and Data Mining changed its name to the Section on Statistical Learning and Data Science, reflecting the ascendant popularity of data science.<sup class=\"reference\" id=\"cite_ref-31\"><a href=\"#cite_note-31\">[31]</a></sup>\n",
      "</p>, <p>The professional title of \"data scientist\" has been attributed to <a href=\"/wiki/DJ_Patil\" title=\"DJ Patil\">DJ Patil</a> and <a href=\"/wiki/Jeff_Hammerbacher\" title=\"Jeff Hammerbacher\">Jeff Hammerbacher</a> in 2008.<sup class=\"reference\" id=\"cite_ref-32\"><a href=\"#cite_note-32\">[32]</a></sup> Though it was used by the <a href=\"/wiki/National_Science_Board\" title=\"National Science Board\">National Science Board</a> in their 2005 report \"Long-Lived Digital Data Collections: Enabling Research and Education in the 21st Century\", it referred broadly to any key role in managing a digital <a href=\"/wiki/Data_collection\" title=\"Data collection\">data collection</a>.<sup class=\"reference\" id=\"cite_ref-33\"><a href=\"#cite_note-33\">[33]</a></sup>\n",
      "</p>, <p>There is still no consensus on the definition of data science, and it is considered by some to be a <a href=\"/wiki/Buzzword\" title=\"Buzzword\">buzzword</a>.<sup class=\"reference\" id=\"cite_ref-34\"><a href=\"#cite_note-34\">[34]</a></sup> <a href=\"/wiki/Big_data\" title=\"Big data\">Big data</a> is a related marketing term.<sup class=\"reference\" id=\"cite_ref-:5_35-0\"><a href=\"#cite_note-:5-35\">[35]</a></sup> Data scientists are responsible for breaking down big data into usable information and creating software and algorithms that help companies and organizations determine optimal operations.<sup class=\"reference\" id=\"cite_ref-:6_36-0\"><a href=\"#cite_note-:6-36\">[36]</a></sup>\n",
      "</p>, <p>Data science and data analysis are both important disciplines in the field of <a href=\"/wiki/Data_management\" title=\"Data management\">data management</a> and analysis, but they differ in several key ways. While both fields involve working with data, data science is more of an <a class=\"mw-redirect\" href=\"/wiki/Interdisciplinary_field\" title=\"Interdisciplinary field\">interdisciplinary field</a> that involves the application of statistical, computational, and <a href=\"/wiki/Machine_learning\" title=\"Machine learning\">machine learning</a> methods to extract insights from data and make predictions, while data analysis is more focused on the examination and interpretation of data to identify patterns and trends.<sup class=\"reference\" id=\"cite_ref-:8_37-0\"><a href=\"#cite_note-:8-37\">[37]</a></sup><sup class=\"reference\" id=\"cite_ref-:9_38-0\"><a href=\"#cite_note-:9-38\">[38]</a></sup>\n",
      "</p>, <p>Data analysis typically involves working with smaller, structured datasets to answer specific questions or solve specific problems. This can involve tasks such as <a class=\"mw-redirect\" href=\"/wiki/Data_cleaning\" title=\"Data cleaning\">data cleaning</a>, <a class=\"mw-redirect\" href=\"/wiki/Data_visualization\" title=\"Data visualization\">data visualization</a>, and exploratory data analysis to gain insights into the data and develop hypotheses about relationships between <a class=\"mw-redirect\" href=\"/wiki/Variable_(research)\" title=\"Variable (research)\">variables</a>. Data analysts typically use statistical methods to test these hypotheses and draw conclusions from the data. For example, a <a class=\"mw-redirect\" href=\"/wiki/Data_analyst\" title=\"Data analyst\">data analyst</a> might analyze sales data to identify trends in customer behavior and make recommendations for marketing strategies.<sup class=\"reference\" id=\"cite_ref-:8_37-1\"><a href=\"#cite_note-:8-37\">[37]</a></sup>\n",
      "</p>, <p>Data science, on the other hand, is a more complex and <a class=\"mw-redirect\" href=\"/wiki/Iterative\" title=\"Iterative\">iterative</a> process that involves working with larger, more complex datasets that often require advanced computational and statistical methods to analyze. Data scientists often work with <a href=\"/wiki/Unstructured_data\" title=\"Unstructured data\">unstructured data</a> such as text or images and use <a href=\"/wiki/Machine_learning\" title=\"Machine learning\">machine learning</a> algorithms to build predictive models and make data-driven decisions. In addition to <a class=\"mw-redirect\" href=\"/wiki/Statistical_analysis\" title=\"Statistical analysis\">statistical analysis</a>, data science often involves tasks such as <a href=\"/wiki/Data_preprocessing\" title=\"Data preprocessing\">data preprocessing</a>, <a href=\"/wiki/Feature_engineering\" title=\"Feature engineering\">feature engineering</a>, and model selection. For instance, a data scientist might develop a recommendation system for an e-commerce platform by analyzing user behavior patterns and using <a class=\"mw-redirect\" href=\"/wiki/Machine_learning_algorithms\" title=\"Machine learning algorithms\">machine learning algorithms</a> to predict user preferences.<sup class=\"reference\" id=\"cite_ref-:9_38-1\"><a href=\"#cite_note-:9-38\">[38]</a></sup><sup class=\"reference\" id=\"cite_ref-:10_39-0\"><a href=\"#cite_note-:10-39\">[39]</a></sup>\n",
      "</p>, <p>While data analysis focuses on extracting insights from existing data, data science goes beyond that by incorporating the development and implementation of predictive models to make informed decisions. Data scientists are often responsible for collecting and cleaning data, selecting appropriate analytical techniques, and deploying models in real-world scenarios. They work at the intersection of mathematics, <a href=\"/wiki/Computer_science\" title=\"Computer science\">computer science</a>, and <a class=\"mw-redirect\" href=\"/wiki/Domain_expertise\" title=\"Domain expertise\">domain expertise</a> to solve complex problems and uncover hidden patterns in large datasets.<sup class=\"reference\" id=\"cite_ref-:9_38-2\"><a href=\"#cite_note-:9-38\">[38]</a></sup>\n",
      "</p>, <p>Despite these differences, data science and data analysis are closely related fields and often require similar skill sets. Both fields require a solid foundation in statistics, <a href=\"/wiki/Computer_programming\" title=\"Computer programming\">programming</a>, and <a class=\"mw-redirect\" href=\"/wiki/Data_visualization\" title=\"Data visualization\">data visualization</a>, as well as the ability to communicate findings effectively to both technical and non-technical audiences. Both fields benefit from <a href=\"/wiki/Critical_thinking\" title=\"Critical thinking\">critical thinking</a> and <a href=\"/wiki/Domain_knowledge\" title=\"Domain knowledge\">domain knowledge</a>, as understanding the context and nuances of the data is essential for accurate analysis and modeling.<sup class=\"reference\" id=\"cite_ref-:8_37-2\"><a href=\"#cite_note-:8-37\">[37]</a></sup><sup class=\"reference\" id=\"cite_ref-:9_38-3\"><a href=\"#cite_note-:9-38\">[38]</a></sup>\n",
      "</p>, <p>In summary, data analysis and data science are distinct yet interconnected disciplines within the broader field of <a href=\"/wiki/Data_management\" title=\"Data management\">data management</a> and analysis. Data analysis focuses on extracting insights and drawing conclusions from <a class=\"mw-redirect\" href=\"/wiki/Structured_data\" title=\"Structured data\">structured data</a>, while data science involves a more comprehensive approach that combines <a class=\"mw-redirect\" href=\"/wiki/Statistical_analysis\" title=\"Statistical analysis\">statistical analysis</a>, computational methods, and <a href=\"/wiki/Machine_learning\" title=\"Machine learning\">machine learning</a> to extract insights, build predictive models, and drive data-driven <a href=\"/wiki/Decision-making\" title=\"Decision-making\">decision-making</a>. Both fields use data to understand patterns, make informed decisions, and solve complex problems across various domains.\n",
      "</p>, <p><a href=\"/wiki/Cloud_computing\" title=\"Cloud computing\">Cloud computing</a> can offer access to large amounts of computational power and <a href=\"/wiki/Data_storage\" title=\"Data storage\">storage</a>.<sup class=\"reference\" id=\"cite_ref-40\"><a href=\"#cite_note-40\">[40]</a></sup> In <a href=\"/wiki/Big_data\" title=\"Big data\">big data</a>, where volumes of information are continually generated and processed, these platforms can be used to handle complex and resource-intensive analytical tasks.<sup class=\"reference\" id=\"cite_ref-:0_41-0\"><a href=\"#cite_note-:0-41\">[41]</a></sup>\n",
      "</p>, <p>Some distributed computing frameworks are designed to handle big data workloads. These frameworks can enable data scientists to process and analyze large datasets in parallel, which can reducing processing times.<sup class=\"reference\" id=\"cite_ref-:3_42-0\"><a href=\"#cite_note-:3-42\">[42]</a></sup>\n",
      "</p>, <p>Data science involve collecting, processing, and analyzing data which often including personal and sensitive information. Ethical concerns include potential privacy violations, bias perpetuation, and negative societal impacts <sup class=\"reference\" id=\"cite_ref-:4_43-0\"><a href=\"#cite_note-:4-43\">[43]</a></sup><sup class=\"reference\" id=\"cite_ref-:11_44-0\"><a href=\"#cite_note-:11-44\">[44]</a></sup>\n",
      "</p>, <p>Machine learning models can amplify existing biases present in training data, leading to discriminatory or unfair outcomes.<sup class=\"reference\" id=\"cite_ref-45\"><a href=\"#cite_note-45\">[45]</a></sup><sup class=\"reference\" id=\"cite_ref-46\"><a href=\"#cite_note-46\">[46]</a></sup>\n",
      "</p>]\n"
     ]
    }
   ],
   "source": [
    "print(\"P-TAG: \")\n",
    "print(soup.find_all('p'))"
   ]
  },
  {
   "cell_type": "code",
   "execution_count": null,
   "id": "78db06f1-05be-44bd-9a67-53773d2da7f8",
   "metadata": {},
   "outputs": [],
   "source": []
  }
 ],
 "metadata": {
  "kernelspec": {
   "display_name": "Python 3 (ipykernel)",
   "language": "python",
   "name": "python3"
  },
  "language_info": {
   "codemirror_mode": {
    "name": "ipython",
    "version": 3
   },
   "file_extension": ".py",
   "mimetype": "text/x-python",
   "name": "python",
   "nbconvert_exporter": "python",
   "pygments_lexer": "ipython3",
   "version": "3.10.12"
  }
 },
 "nbformat": 4,
 "nbformat_minor": 5
}
