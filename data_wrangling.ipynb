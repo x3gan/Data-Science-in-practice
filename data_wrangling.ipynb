{
 "cells": [
  {
   "cell_type": "markdown",
   "id": "21fa9b94-1a31-437c-b3bb-2c7df3326dd7",
   "metadata": {},
   "source": [
    "# Data Wrangling\n",
    "'Data Wrangling' generally refers to transforming raw data into a useable form for your analyses of interest, including loading, aggregating and formating."
   ]
  },
  {
   "cell_type": "markdown",
   "id": "95e0ecbe-c0ad-41a8-b3dd-3e4f46e822e8",
   "metadata": {},
   "source": [
    "## Python I/O"
   ]
  },
  {
   "cell_type": "code",
   "execution_count": 3,
   "id": "75a9994e-1c33-4481-99b0-36ba42bb1683",
   "metadata": {},
   "outputs": [
    {
     "name": "stdout",
     "output_type": "stream",
     "text": [
      "First line of data\n",
      "Second line of data"
     ]
    }
   ],
   "source": [
    "!cat data.txt"
   ]
  },
  {
   "cell_type": "code",
   "execution_count": 5,
   "id": "11816305-ff3d-4a83-a0ed-b21e94609625",
   "metadata": {},
   "outputs": [
    {
     "name": "stdout",
     "output_type": "stream",
     "text": [
      "First line of data\n",
      "Second line of data\n"
     ]
    }
   ],
   "source": [
    "file_obj = open('data.txt', 'r')\n",
    "\n",
    "for line in file_obj:\n",
    "    print(line.strip('\\n'))\n",
    "\n",
    "file_obj.close()"
   ]
  },
  {
   "cell_type": "code",
   "execution_count": 6,
   "id": "09d919eb-61f3-4fae-b693-e548352fa766",
   "metadata": {},
   "outputs": [
    {
     "name": "stdout",
     "output_type": "stream",
     "text": [
      "First line of data\n",
      "Second line of data\n"
     ]
    }
   ],
   "source": [
    "# alternatively use a with block that closes automatically\n",
    "with open('data.txt', 'r') as file_obj:\n",
    "    for line in file_obj:\n",
    "        print(line.strip('\\n'))"
   ]
  },
  {
   "cell_type": "markdown",
   "id": "9c347987-5f17-4375-87d1-d814b9e2c0be",
   "metadata": {},
   "source": [
    "### Pandas I/O"
   ]
  },
  {
   "cell_type": "code",
   "execution_count": 7,
   "id": "dadbde83-dad0-4c78-b93d-6615d307d5b6",
   "metadata": {},
   "outputs": [],
   "source": [
    "import pandas as pd"
   ]
  },
  {
   "cell_type": "code",
   "execution_count": 9,
   "id": "5fa7d8c1-ca36-4c59-8270-3346dec915a2",
   "metadata": {},
   "outputs": [],
   "source": [
    "# pd.read_ # after underscore press tab for list of readable formats"
   ]
  },
  {
   "cell_type": "markdown",
   "id": "582115d4-11ed-4500-9bb7-5c457866fee2",
   "metadata": {},
   "source": [
    "#### CSV"
   ]
  },
  {
   "cell_type": "code",
   "execution_count": 10,
   "id": "8d0a6674-62d2-4259-8e28-e58d3c05c37f",
   "metadata": {},
   "outputs": [],
   "source": [
    "import csv"
   ]
  },
  {
   "cell_type": "code",
   "execution_count": 12,
   "id": "b94050e1-7b57-4039-9848-ddee0effc3ad",
   "metadata": {},
   "outputs": [
    {
     "name": "stdout",
     "output_type": "stream",
     "text": [
      "1,  2,  3,  4\n",
      "5,  6,  7,  8\n",
      "9,  10,  11,  12\n"
     ]
    }
   ],
   "source": [
    "with open('data.csv', 'r') as csv_file:\n",
    "    csv_reader = csv.reader(csv_file, delimiter= ',')\n",
    "    for row in csv_reader:\n",
    "        print(',  '.join(row))"
   ]
  },
  {
   "cell_type": "markdown",
   "id": "9778acc9-2282-4e51-96d3-95c2bb229383",
   "metadata": {},
   "source": [
    "#### CSV with pandas"
   ]
  },
  {
   "cell_type": "code",
   "execution_count": 13,
   "id": "70cf893e-71ea-403c-8e73-b7c82e2ca91c",
   "metadata": {},
   "outputs": [
    {
     "data": {
      "text/html": [
       "<div>\n",
       "<style scoped>\n",
       "    .dataframe tbody tr th:only-of-type {\n",
       "        vertical-align: middle;\n",
       "    }\n",
       "\n",
       "    .dataframe tbody tr th {\n",
       "        vertical-align: top;\n",
       "    }\n",
       "\n",
       "    .dataframe thead th {\n",
       "        text-align: right;\n",
       "    }\n",
       "</style>\n",
       "<table border=\"1\" class=\"dataframe\">\n",
       "  <thead>\n",
       "    <tr style=\"text-align: right;\">\n",
       "      <th></th>\n",
       "      <th>0</th>\n",
       "      <th>1</th>\n",
       "      <th>2</th>\n",
       "      <th>3</th>\n",
       "    </tr>\n",
       "  </thead>\n",
       "  <tbody>\n",
       "    <tr>\n",
       "      <th>0</th>\n",
       "      <td>1</td>\n",
       "      <td>2</td>\n",
       "      <td>3</td>\n",
       "      <td>4</td>\n",
       "    </tr>\n",
       "    <tr>\n",
       "      <th>1</th>\n",
       "      <td>5</td>\n",
       "      <td>6</td>\n",
       "      <td>7</td>\n",
       "      <td>8</td>\n",
       "    </tr>\n",
       "    <tr>\n",
       "      <th>2</th>\n",
       "      <td>9</td>\n",
       "      <td>10</td>\n",
       "      <td>11</td>\n",
       "      <td>12</td>\n",
       "    </tr>\n",
       "  </tbody>\n",
       "</table>\n",
       "</div>"
      ],
      "text/plain": [
       "   0   1   2   3\n",
       "0  1   2   3   4\n",
       "1  5   6   7   8\n",
       "2  9  10  11  12"
      ]
     },
     "execution_count": 13,
     "metadata": {},
     "output_type": "execute_result"
    }
   ],
   "source": [
    "pd.read_csv(open('data.csv'), header= None)"
   ]
  },
  {
   "cell_type": "markdown",
   "id": "84d8058c-ce83-4376-a22e-1c3de38ea7c8",
   "metadata": {},
   "source": [
    "#### JSON"
   ]
  },
  {
   "cell_type": "code",
   "execution_count": 14,
   "id": "6f86191c-a16d-4c5c-bc01-7d87c5eef456",
   "metadata": {},
   "outputs": [],
   "source": [
    "import json"
   ]
  },
  {
   "cell_type": "code",
   "execution_count": 19,
   "id": "d4f23603-7cfb-4a04-b118-ef3f8b27ba2d",
   "metadata": {},
   "outputs": [
    {
     "name": "stdout",
     "output_type": "stream",
     "text": [
      "{'firstName': 'John', 'age': 53}\n",
      "<class 'dict'>\n"
     ]
    }
   ],
   "source": [
    "with open('data.json', 'r') as json_file:\n",
    "    dat_file = json.load(json_file)\n",
    "\n",
    "print(dat_file)\n",
    "print(type(dat_file))"
   ]
  },
  {
   "cell_type": "markdown",
   "id": "9467458d-686e-4f63-9f05-55d1b2e75219",
   "metadata": {},
   "source": [
    "#### JSON with pandas"
   ]
  },
  {
   "cell_type": "code",
   "execution_count": 22,
   "id": "907ad56c-2411-455d-a7f6-c870bb580157",
   "metadata": {},
   "outputs": [
    {
     "data": {
      "text/plain": [
       "firstName    John\n",
       "age            53\n",
       "dtype: object"
      ]
     },
     "execution_count": 22,
     "metadata": {},
     "output_type": "execute_result"
    }
   ],
   "source": [
    "pd.read_json(open('data.json'), typ = 'series')"
   ]
  }
 ],
 "metadata": {
  "kernelspec": {
   "display_name": "Python 3 (ipykernel)",
   "language": "python",
   "name": "python3"
  },
  "language_info": {
   "codemirror_mode": {
    "name": "ipython",
    "version": 3
   },
   "file_extension": ".py",
   "mimetype": "text/x-python",
   "name": "python",
   "nbconvert_exporter": "python",
   "pygments_lexer": "ipython3",
   "version": "3.10.12"
  }
 },
 "nbformat": 4,
 "nbformat_minor": 5
}
