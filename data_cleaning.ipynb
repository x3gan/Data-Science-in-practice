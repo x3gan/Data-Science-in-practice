{
 "cells": [
  {
   "cell_type": "markdown",
   "id": "a90fa6b8-fe38-444b-ace7-eba01d495088",
   "metadata": {},
   "source": [
    "# Data Cleaning"
   ]
  },
  {
   "cell_type": "code",
   "execution_count": 2,
   "id": "b30acde4-5fd9-410c-9db9-3959b9c2120e",
   "metadata": {},
   "outputs": [],
   "source": [
    "import numpy as np\n",
    "import pandas as pd"
   ]
  },
  {
   "cell_type": "markdown",
   "id": "e9fd2b1a-1677-4fbf-8ea7-7995e6db705b",
   "metadata": {},
   "source": [
    "#### Missing values"
   ]
  },
  {
   "cell_type": "markdown",
   "id": "c59e2b67-12db-475c-a7da-dbad147cf475",
   "metadata": {},
   "source": [
    "- literally empty\n",
    "- encoded as special value\n",
    "    - Python: None\n",
    "    - Numpy: NaN"
   ]
  },
  {
   "cell_type": "markdown",
   "id": "5def13e8-5801-4b9a-a358-8f8123567f59",
   "metadata": {},
   "source": [
    "### None"
   ]
  },
  {
   "cell_type": "code",
   "execution_count": 4,
   "id": "352b3166-5a91-404b-ba9b-5c69bcb7393e",
   "metadata": {},
   "outputs": [
    {
     "name": "stdout",
     "output_type": "stream",
     "text": [
      "<class 'NoneType'>\n"
     ]
    }
   ],
   "source": [
    "data_none = None\n",
    "print(type(data_none))"
   ]
  },
  {
   "cell_type": "code",
   "execution_count": 6,
   "id": "e2915d65-8737-4cf7-b02b-95ee6f896b8b",
   "metadata": {},
   "outputs": [
    {
     "ename": "AssertionError",
     "evalue": "",
     "output_type": "error",
     "traceback": [
      "\u001b[0;31m---------------------------------------------------------------------------\u001b[0m",
      "\u001b[0;31mAssertionError\u001b[0m                            Traceback (most recent call last)",
      "Cell \u001b[0;32mIn[6], line 1\u001b[0m\n\u001b[0;32m----> 1\u001b[0m \u001b[38;5;28;01massert\u001b[39;00m data_none \u001b[38;5;66;03m# acts like null type => basic operations like (+) will fail\u001b[39;00m\n",
      "\u001b[0;31mAssertionError\u001b[0m: "
     ]
    }
   ],
   "source": [
    "assert data_none # acts like null type => basic operations like (+) will fail"
   ]
  },
  {
   "cell_type": "markdown",
   "id": "46a44075-7b1d-43ab-93b2-e31856294275",
   "metadata": {},
   "source": [
    "### NaN"
   ]
  },
  {
   "cell_type": "code",
   "execution_count": 8,
   "id": "4ee31b3a-86d9-428a-a66c-92214d9ced53",
   "metadata": {},
   "outputs": [],
   "source": [
    "data_nan = np.nan"
   ]
  },
  {
   "cell_type": "code",
   "execution_count": 12,
   "id": "d40c1108-b090-49b5-a39a-507ce94b033d",
   "metadata": {},
   "outputs": [
    {
     "data": {
      "text/plain": [
       "float"
      ]
     },
     "execution_count": 12,
     "metadata": {},
     "output_type": "execute_result"
    }
   ],
   "source": [
    "type(data_nan) # is a special type of float value"
   ]
  },
  {
   "cell_type": "code",
   "execution_count": 11,
   "id": "67d6a718-e479-4324-91a7-641612221abc",
   "metadata": {},
   "outputs": [],
   "source": [
    "assert data_nan # does't evaluate as null"
   ]
  },
  {
   "cell_type": "code",
   "execution_count": 17,
   "id": "e898c9f5-b701-4c63-9ce4-cce2921e1b83",
   "metadata": {},
   "outputs": [
    {
     "data": {
      "text/plain": [
       "True"
      ]
     },
     "execution_count": 17,
     "metadata": {},
     "output_type": "execute_result"
    }
   ],
   "source": [
    "np.nan is np.NaN is np.NAN"
   ]
  },
  {
   "cell_type": "code",
   "execution_count": 18,
   "id": "8c8c6306-c891-4936-8cd9-b9d7bb98dd79",
   "metadata": {},
   "outputs": [
    {
     "name": "stdout",
     "output_type": "stream",
     "text": [
      "nan\n"
     ]
    }
   ],
   "source": [
    "# if you want to do basic calculation, a nan element will mess it up\n",
    "dat_a = np.array([1,2,3,np.nan])\n",
    "\n",
    "print(np.mean(dat_a))"
   ]
  },
  {
   "cell_type": "code",
   "execution_count": 19,
   "id": "dba5efb2-e22a-4329-8f26-ba56abb083c6",
   "metadata": {},
   "outputs": [
    {
     "data": {
      "text/plain": [
       "2.0"
      ]
     },
     "execution_count": 19,
     "metadata": {},
     "output_type": "execute_result"
    }
   ],
   "source": [
    "# but if you use the nan version, it will just ignore nan values\n",
    "np.nanmean(np.array([1,2,3,np.nan]))"
   ]
  },
  {
   "cell_type": "markdown",
   "id": "66ae5cfd-5014-480b-84e8-5d14d648e154",
   "metadata": {},
   "source": [
    "#### Dealing with missing data is a decision point: what do you do?\n",
    "- Do you drop the observation?\n",
    "    - What if this entails dropping a lot of observations?\n",
    "- Do you keep it, but ignore it in any calculations?\n",
    "    - What if you end up with different N’s in different calculcations?\n",
    "- Do you recode that data point?\n",
    "    - What do you recode it to?"
   ]
  },
  {
   "cell_type": "markdown",
   "id": "0c8d17c4-8d21-48bd-9321-c028349083c9",
   "metadata": {},
   "source": [
    "#### Impossible values\n",
    "for example for a miising age -999 might be used, these are not nan but you will have to deal with that"
   ]
  },
  {
   "cell_type": "markdown",
   "id": "512ba9b4-7d2d-485e-8dc2-703038facfef",
   "metadata": {},
   "source": [
    "### Pandas cleaning - Json"
   ]
  },
  {
   "cell_type": "code",
   "execution_count": 24,
   "id": "c2f1563a-09ae-458b-ade7-f92ebab17c09",
   "metadata": {},
   "outputs": [
    {
     "data": {
      "text/html": [
       "<div>\n",
       "<style scoped>\n",
       "    .dataframe tbody tr th:only-of-type {\n",
       "        vertical-align: middle;\n",
       "    }\n",
       "\n",
       "    .dataframe tbody tr th {\n",
       "        vertical-align: top;\n",
       "    }\n",
       "\n",
       "    .dataframe thead th {\n",
       "        text-align: right;\n",
       "    }\n",
       "</style>\n",
       "<table border=\"1\" class=\"dataframe\">\n",
       "  <thead>\n",
       "    <tr style=\"text-align: right;\">\n",
       "      <th></th>\n",
       "      <th>id</th>\n",
       "      <th>height</th>\n",
       "    </tr>\n",
       "  </thead>\n",
       "  <tbody>\n",
       "    <tr>\n",
       "      <th>0</th>\n",
       "      <td>1</td>\n",
       "      <td>168.0</td>\n",
       "    </tr>\n",
       "    <tr>\n",
       "      <th>1</th>\n",
       "      <td>2</td>\n",
       "      <td>155.0</td>\n",
       "    </tr>\n",
       "    <tr>\n",
       "      <th>2</th>\n",
       "      <td>3</td>\n",
       "      <td>NaN</td>\n",
       "    </tr>\n",
       "    <tr>\n",
       "      <th>3</th>\n",
       "      <td>4</td>\n",
       "      <td>173.0</td>\n",
       "    </tr>\n",
       "  </tbody>\n",
       "</table>\n",
       "</div>"
      ],
      "text/plain": [
       "   id  height\n",
       "0   1   168.0\n",
       "1   2   155.0\n",
       "2   3     NaN\n",
       "3   4   173.0"
      ]
     },
     "execution_count": 24,
     "metadata": {},
     "output_type": "execute_result"
    }
   ],
   "source": [
    "df1 = pd.read_json(\"human.json\")\n",
    "\n",
    "df1\n",
    "### appaerently json reads columns alphabetivcally, so you would need to rearrange it -- idk it didnt happen here, id is first col\n",
    "## df1 = df1[['id', 'height']]"
   ]
  },
  {
   "cell_type": "code",
   "execution_count": 26,
   "id": "c7c5eef5-e1c3-47c1-8e31-848d6ccad8cf",
   "metadata": {},
   "outputs": [
    {
     "data": {
      "text/html": [
       "<div>\n",
       "<style scoped>\n",
       "    .dataframe tbody tr th:only-of-type {\n",
       "        vertical-align: middle;\n",
       "    }\n",
       "\n",
       "    .dataframe tbody tr th {\n",
       "        vertical-align: top;\n",
       "    }\n",
       "\n",
       "    .dataframe thead th {\n",
       "        text-align: right;\n",
       "    }\n",
       "</style>\n",
       "<table border=\"1\" class=\"dataframe\">\n",
       "  <thead>\n",
       "    <tr style=\"text-align: right;\">\n",
       "      <th></th>\n",
       "      <th>id</th>\n",
       "      <th>height</th>\n",
       "    </tr>\n",
       "  </thead>\n",
       "  <tbody>\n",
       "    <tr>\n",
       "      <th>0</th>\n",
       "      <td>1</td>\n",
       "      <td>168.0</td>\n",
       "    </tr>\n",
       "    <tr>\n",
       "      <th>1</th>\n",
       "      <td>2</td>\n",
       "      <td>155.0</td>\n",
       "    </tr>\n",
       "    <tr>\n",
       "      <th>3</th>\n",
       "      <td>4</td>\n",
       "      <td>173.0</td>\n",
       "    </tr>\n",
       "  </tbody>\n",
       "</table>\n",
       "</div>"
      ],
      "text/plain": [
       "   id  height\n",
       "0   1   168.0\n",
       "1   2   155.0\n",
       "3   4   173.0"
      ]
     },
     "execution_count": 26,
     "metadata": {},
     "output_type": "execute_result"
    }
   ],
   "source": [
    "# drop nan values\n",
    "df1.dropna(inplace = True) # inplace - performs the operation on the dataframe, you don't have to resave it into a new variable\n",
    "df1"
   ]
  },
  {
   "cell_type": "markdown",
   "id": "b7f8951e-5a1a-4c9f-ad41-f7131dad4062",
   "metadata": {},
   "source": [
    "### Pandas cleaning - CSV"
   ]
  },
  {
   "cell_type": "code",
   "execution_count": 32,
   "id": "0db09bda-eaf5-4132-894c-0e58e6c8b50c",
   "metadata": {},
   "outputs": [
    {
     "data": {
      "text/html": [
       "<div>\n",
       "<style scoped>\n",
       "    .dataframe tbody tr th:only-of-type {\n",
       "        vertical-align: middle;\n",
       "    }\n",
       "\n",
       "    .dataframe tbody tr th {\n",
       "        vertical-align: top;\n",
       "    }\n",
       "\n",
       "    .dataframe thead th {\n",
       "        text-align: right;\n",
       "    }\n",
       "</style>\n",
       "<table border=\"1\" class=\"dataframe\">\n",
       "  <thead>\n",
       "    <tr style=\"text-align: right;\">\n",
       "      <th></th>\n",
       "      <th>id</th>\n",
       "      <th>age</th>\n",
       "      <th>weight</th>\n",
       "    </tr>\n",
       "  </thead>\n",
       "  <tbody>\n",
       "    <tr>\n",
       "      <th>0</th>\n",
       "      <td>1</td>\n",
       "      <td>20</td>\n",
       "      <td>11.0</td>\n",
       "    </tr>\n",
       "    <tr>\n",
       "      <th>1</th>\n",
       "      <td>2</td>\n",
       "      <td>27</td>\n",
       "      <td>NaN</td>\n",
       "    </tr>\n",
       "    <tr>\n",
       "      <th>2</th>\n",
       "      <td>3</td>\n",
       "      <td>25</td>\n",
       "      <td>14.0</td>\n",
       "    </tr>\n",
       "    <tr>\n",
       "      <th>3</th>\n",
       "      <td>4</td>\n",
       "      <td>-999</td>\n",
       "      <td>12.0</td>\n",
       "    </tr>\n",
       "  </tbody>\n",
       "</table>\n",
       "</div>"
      ],
      "text/plain": [
       "   id  age  weight\n",
       "0   1   20    11.0\n",
       "1   2   27     NaN\n",
       "2   3   25    14.0\n",
       "3   4 -999    12.0"
      ]
     },
     "execution_count": 32,
     "metadata": {},
     "output_type": "execute_result"
    }
   ],
   "source": [
    "df2 = pd.read_csv(\"data (1).csv\")\n",
    "df2"
   ]
  },
  {
   "cell_type": "code",
   "execution_count": 33,
   "id": "7e9343c4-9919-4fba-b006-d616671be5d8",
   "metadata": {},
   "outputs": [],
   "source": [
    "# drop nan value(s)\n",
    "df2.drop('weight', axis=1, inplace = True)\n",
    "# however since for this calculation we do not need the weight, only age and height, we are rejecting good data\n",
    "# so we just drop the whole weight column"
   ]
  },
  {
   "cell_type": "code",
   "execution_count": 34,
   "id": "1e62472a-8eee-4d89-b774-010c49a9e10b",
   "metadata": {},
   "outputs": [
    {
     "data": {
      "text/html": [
       "<div>\n",
       "<style scoped>\n",
       "    .dataframe tbody tr th:only-of-type {\n",
       "        vertical-align: middle;\n",
       "    }\n",
       "\n",
       "    .dataframe tbody tr th {\n",
       "        vertical-align: top;\n",
       "    }\n",
       "\n",
       "    .dataframe thead th {\n",
       "        text-align: right;\n",
       "    }\n",
       "</style>\n",
       "<table border=\"1\" class=\"dataframe\">\n",
       "  <thead>\n",
       "    <tr style=\"text-align: right;\">\n",
       "      <th></th>\n",
       "      <th>id</th>\n",
       "      <th>age</th>\n",
       "    </tr>\n",
       "  </thead>\n",
       "  <tbody>\n",
       "    <tr>\n",
       "      <th>0</th>\n",
       "      <td>1</td>\n",
       "      <td>20</td>\n",
       "    </tr>\n",
       "    <tr>\n",
       "      <th>1</th>\n",
       "      <td>2</td>\n",
       "      <td>27</td>\n",
       "    </tr>\n",
       "    <tr>\n",
       "      <th>2</th>\n",
       "      <td>3</td>\n",
       "      <td>25</td>\n",
       "    </tr>\n",
       "    <tr>\n",
       "      <th>3</th>\n",
       "      <td>4</td>\n",
       "      <td>-999</td>\n",
       "    </tr>\n",
       "  </tbody>\n",
       "</table>\n",
       "</div>"
      ],
      "text/plain": [
       "   id  age\n",
       "0   1   20\n",
       "1   2   27\n",
       "2   3   25\n",
       "3   4 -999"
      ]
     },
     "execution_count": 34,
     "metadata": {},
     "output_type": "execute_result"
    }
   ],
   "source": [
    "df2"
   ]
  },
  {
   "cell_type": "code",
   "execution_count": 38,
   "id": "94bb7867-879a-48c6-8743-eccd71cb1a9a",
   "metadata": {},
   "outputs": [
    {
     "data": {
      "text/plain": [
       "0"
      ]
     },
     "execution_count": 38,
     "metadata": {},
     "output_type": "execute_result"
    }
   ],
   "source": [
    "# check if there are any nan values in the age column\n",
    "sum(df2['age'].isnull()) # no insnan, isnull creates a bool array, then counts all trues across it"
   ]
  },
  {
   "cell_type": "code",
   "execution_count": 39,
   "id": "7adceac5-7ab0-4f94-a495-e804ae615f25",
   "metadata": {},
   "outputs": [],
   "source": [
    "# merge data based on a specific column, if they have the same id, they will combine\n",
    "df = pd.merge(df1, df2, on = 'id')"
   ]
  },
  {
   "cell_type": "code",
   "execution_count": 40,
   "id": "17a4abb9-1018-4a1c-8f14-380b8f4d1403",
   "metadata": {},
   "outputs": [
    {
     "data": {
      "text/html": [
       "<div>\n",
       "<style scoped>\n",
       "    .dataframe tbody tr th:only-of-type {\n",
       "        vertical-align: middle;\n",
       "    }\n",
       "\n",
       "    .dataframe tbody tr th {\n",
       "        vertical-align: top;\n",
       "    }\n",
       "\n",
       "    .dataframe thead th {\n",
       "        text-align: right;\n",
       "    }\n",
       "</style>\n",
       "<table border=\"1\" class=\"dataframe\">\n",
       "  <thead>\n",
       "    <tr style=\"text-align: right;\">\n",
       "      <th></th>\n",
       "      <th>id</th>\n",
       "      <th>height</th>\n",
       "      <th>age</th>\n",
       "    </tr>\n",
       "  </thead>\n",
       "  <tbody>\n",
       "    <tr>\n",
       "      <th>0</th>\n",
       "      <td>1</td>\n",
       "      <td>168.0</td>\n",
       "      <td>20</td>\n",
       "    </tr>\n",
       "    <tr>\n",
       "      <th>1</th>\n",
       "      <td>2</td>\n",
       "      <td>155.0</td>\n",
       "      <td>27</td>\n",
       "    </tr>\n",
       "    <tr>\n",
       "      <th>2</th>\n",
       "      <td>4</td>\n",
       "      <td>173.0</td>\n",
       "      <td>-999</td>\n",
       "    </tr>\n",
       "  </tbody>\n",
       "</table>\n",
       "</div>"
      ],
      "text/plain": [
       "   id  height  age\n",
       "0   1   168.0   20\n",
       "1   2   155.0   27\n",
       "2   4   173.0 -999"
      ]
     },
     "execution_count": 40,
     "metadata": {},
     "output_type": "execute_result"
    }
   ],
   "source": [
    "df"
   ]
  },
  {
   "cell_type": "code",
   "execution_count": 43,
   "id": "4bcd7d40-a159-4204-9976-7203e15f40ce",
   "metadata": {},
   "outputs": [
    {
     "data": {
      "text/html": [
       "<div>\n",
       "<style scoped>\n",
       "    .dataframe tbody tr th:only-of-type {\n",
       "        vertical-align: middle;\n",
       "    }\n",
       "\n",
       "    .dataframe tbody tr th {\n",
       "        vertical-align: top;\n",
       "    }\n",
       "\n",
       "    .dataframe thead th {\n",
       "        text-align: right;\n",
       "    }\n",
       "</style>\n",
       "<table border=\"1\" class=\"dataframe\">\n",
       "  <thead>\n",
       "    <tr style=\"text-align: right;\">\n",
       "      <th></th>\n",
       "      <th>id</th>\n",
       "      <th>height</th>\n",
       "      <th>age</th>\n",
       "    </tr>\n",
       "  </thead>\n",
       "  <tbody>\n",
       "    <tr>\n",
       "      <th>count</th>\n",
       "      <td>3.000000</td>\n",
       "      <td>3.000000</td>\n",
       "      <td>3.000000</td>\n",
       "    </tr>\n",
       "    <tr>\n",
       "      <th>mean</th>\n",
       "      <td>2.333333</td>\n",
       "      <td>165.333333</td>\n",
       "      <td>-317.333333</td>\n",
       "    </tr>\n",
       "    <tr>\n",
       "      <th>std</th>\n",
       "      <td>1.527525</td>\n",
       "      <td>9.291573</td>\n",
       "      <td>590.351026</td>\n",
       "    </tr>\n",
       "    <tr>\n",
       "      <th>min</th>\n",
       "      <td>1.000000</td>\n",
       "      <td>155.000000</td>\n",
       "      <td>-999.000000</td>\n",
       "    </tr>\n",
       "    <tr>\n",
       "      <th>25%</th>\n",
       "      <td>1.500000</td>\n",
       "      <td>161.500000</td>\n",
       "      <td>-489.500000</td>\n",
       "    </tr>\n",
       "    <tr>\n",
       "      <th>50%</th>\n",
       "      <td>2.000000</td>\n",
       "      <td>168.000000</td>\n",
       "      <td>20.000000</td>\n",
       "    </tr>\n",
       "    <tr>\n",
       "      <th>75%</th>\n",
       "      <td>3.000000</td>\n",
       "      <td>170.500000</td>\n",
       "      <td>23.500000</td>\n",
       "    </tr>\n",
       "    <tr>\n",
       "      <th>max</th>\n",
       "      <td>4.000000</td>\n",
       "      <td>173.000000</td>\n",
       "      <td>27.000000</td>\n",
       "    </tr>\n",
       "  </tbody>\n",
       "</table>\n",
       "</div>"
      ],
      "text/plain": [
       "             id      height         age\n",
       "count  3.000000    3.000000    3.000000\n",
       "mean   2.333333  165.333333 -317.333333\n",
       "std    1.527525    9.291573  590.351026\n",
       "min    1.000000  155.000000 -999.000000\n",
       "25%    1.500000  161.500000 -489.500000\n",
       "50%    2.000000  168.000000   20.000000\n",
       "75%    3.000000  170.500000   23.500000\n",
       "max    4.000000  173.000000   27.000000"
      ]
     },
     "execution_count": 43,
     "metadata": {},
     "output_type": "execute_result"
    }
   ],
   "source": [
    "# now check the stats if the data seems reasonable\n",
    "df.describe()\n",
    "# -317 avg age is weird, maybe -999 is for missign values so filter them out"
   ]
  },
  {
   "cell_type": "code",
   "execution_count": 48,
   "id": "10a54084-e137-4035-a2d2-21a40bb6a336",
   "metadata": {},
   "outputs": [
    {
     "data": {
      "text/plain": [
       "23.5"
      ]
     },
     "execution_count": 48,
     "metadata": {},
     "output_type": "execute_result"
    }
   ],
   "source": [
    "df = df[df['age']>0]\n",
    "\n",
    "df.describe()\n",
    "df['age'].mean() #23.5 seems fair"
   ]
  },
  {
   "cell_type": "code",
   "execution_count": 49,
   "id": "cb51e78c-f9e2-4de9-ae0e-e5b37d9c6bd9",
   "metadata": {},
   "outputs": [
    {
     "data": {
      "text/html": [
       "<div>\n",
       "<style scoped>\n",
       "    .dataframe tbody tr th:only-of-type {\n",
       "        vertical-align: middle;\n",
       "    }\n",
       "\n",
       "    .dataframe tbody tr th {\n",
       "        vertical-align: top;\n",
       "    }\n",
       "\n",
       "    .dataframe thead th {\n",
       "        text-align: right;\n",
       "    }\n",
       "</style>\n",
       "<table border=\"1\" class=\"dataframe\">\n",
       "  <thead>\n",
       "    <tr style=\"text-align: right;\">\n",
       "      <th></th>\n",
       "      <th>id</th>\n",
       "      <th>height</th>\n",
       "      <th>age</th>\n",
       "    </tr>\n",
       "  </thead>\n",
       "  <tbody>\n",
       "    <tr>\n",
       "      <th>0</th>\n",
       "      <td>1</td>\n",
       "      <td>168.0</td>\n",
       "      <td>20</td>\n",
       "    </tr>\n",
       "    <tr>\n",
       "      <th>1</th>\n",
       "      <td>2</td>\n",
       "      <td>155.0</td>\n",
       "      <td>27</td>\n",
       "    </tr>\n",
       "  </tbody>\n",
       "</table>\n",
       "</div>"
      ],
      "text/plain": [
       "   id  height  age\n",
       "0   1   168.0   20\n",
       "1   2   155.0   27"
      ]
     },
     "execution_count": 49,
     "metadata": {},
     "output_type": "execute_result"
    }
   ],
   "source": [
    "df"
   ]
  },
  {
   "cell_type": "markdown",
   "id": "5dd1800e-0b17-4eff-abcd-1ff622868d3a",
   "metadata": {},
   "source": [
    "### Tips for data cleaning:\n",
    "\n",
    "- Read any documentation for the dataset you have\n",
    "    - Things like missing values might be arbitrarily encoded, but should (hopefully) be documented somewhere\n",
    "- Check that data types are as expected. If you are reading in mixed type data, make sure you end up with the correct encodings\n",
    "    - Having numbers read in as strings, for example, is a common way data wrangling can go wrong, and this can cause analysis errors\n",
    "- Visualize your data! Have a look that the distribution seems reasonable (more on this later)\n",
    "- Check basic statistics. df.describe() can give you a sense if the data is really skewed\n",
    "- Keep in mind how your data were collected\n",
    "    - If anything comes from humans entering information into forms, this might take a lot of cleaning\n",
    "        - Fixing data entry errors (typos)\n",
    "        - Dealing with inputs using different units / formats / conventions\n",
    "    - Cleaning this kind of data is likely to take more manual work (since mistakes are likely idiosyncratic)"
   ]
  },
  {
   "cell_type": "markdown",
   "id": "ee2c80ac-52e9-40df-bf88-1761d16d610b",
   "metadata": {},
   "source": [
    "# Data privacy and anonymizatzon\n",
    "\n",
    "The Safe Harbor method requires that the following identifiers of the individuals be removed:\n",
    "- Names\n",
    "- Geographic Subdivisions smaller than a state**\n",
    "- Dates (such as birth dates, etc), and all ages above 90\n",
    "- Telephone Numbers\n",
    "- Vehicle Identification Numbers\n",
    "- Fax numbers\n",
    "- Device identifiers and serial numbers\n",
    "- Email addresses\n",
    "- Web Universal Resource Locators (URLs)\n",
    "- Social security numbers\n",
    "- Internet Protocol (IP) addresses\n",
    "- Medical record numbers\n",
    "- Biometric identifiers, including finger and voice prints\n",
    "- Health plan beneficiary numbers\n",
    "- Full-face photographs and any comparable images\n",
    "- Account numbers\n",
    "- Certificate/license numbers\n",
    "- Any other unique identifying number, characteristic, or code\n",
    "\n",
    "** The first three numbers of the zip code can be kept, provided that more than 20,000 people live in the region covered by all the zip codes that share the same initial three digits (the same geographic subdivision)."
   ]
  }
 ],
 "metadata": {
  "kernelspec": {
   "display_name": "Python 3 (ipykernel)",
   "language": "python",
   "name": "python3"
  },
  "language_info": {
   "codemirror_mode": {
    "name": "ipython",
    "version": 3
   },
   "file_extension": ".py",
   "mimetype": "text/x-python",
   "name": "python",
   "nbconvert_exporter": "python",
   "pygments_lexer": "ipython3",
   "version": "3.10.12"
  }
 },
 "nbformat": 4,
 "nbformat_minor": 5
}
