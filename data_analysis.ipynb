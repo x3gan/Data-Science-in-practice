{
 "cells": [
  {
   "cell_type": "markdown",
   "id": "bfd2e283-1752-444f-ade7-f8079fe17ef6",
   "metadata": {},
   "source": [
    "Accessing Documentation\n",
    "\n",
    "Jupyter has useful shortcuts. Add a single '?' after a function or class get a window with the documentation, or a double '??' to pull up the source code.\n",
    "\n",
    "### Import numpy for examples\n",
    "import numpy as np\n",
    "\n",
    "### Check the docs for a numpy array\n",
    "np.array?\n",
    "\n",
    "### Check the full source code for numpy append function\n",
    "np.append??\n",
    "\n",
    "### Get information about a variable you've created\n",
    "my_string?"
   ]
  },
  {
   "cell_type": "markdown",
   "id": "e6069789-1724-4544-bd31-10c0f4d1621f",
   "metadata": {},
   "source": [
    "Magic Commands\n",
    "\n",
    "'Magic Commands' are a special (command-line like) syntax in IPython/Jupyter to run special functionality. They can run on lines and/or entire cells.\n",
    "\n",
    "The iPython documentation has more information on magic commands.\n",
    "Magic commands are designed to succinctly solve various common problems in standard data analysis. Magic commands come in two flavors: line magics, which are denoted by a single % prefix and operate on a single line of input, and cell magics, which are denoted by a double %% prefix and operate on multiple lines of input.\n",
    "\n",
    "### Access quick reference sheet for interactive Python (this opens a reference guide)\n",
    "%quickref\n",
    "\n",
    "### Check a list of available magic commands\n",
    "%lsmagic\n",
    "\n",
    "### Check the current working directory\n",
    "%pwd\n",
    "\n",
    "### Check all currently defined variables\n",
    "%who\n",
    "\n",
    "### Check all variables, with more information about them\n",
    "%whos\n",
    "\n",
    "### Check code history\n",
    "%hist"
   ]
  },
  {
   "cell_type": "code",
   "execution_count": 2,
   "id": "eb84e65a-fa65-4b6f-967c-1c459590d37a",
   "metadata": {},
   "outputs": [
    {
     "data": {
      "text/plain": [
       "\n",
       "IPython -- An enhanced Interactive Python - Quick Reference Card\n",
       "================================================================\n",
       "\n",
       "obj?, obj??      : Get help, or more help for object (also works as\n",
       "                   ?obj, ??obj).\n",
       "?foo.*abc*       : List names in 'foo' containing 'abc' in them.\n",
       "%magic           : Information about IPython's 'magic' % functions.\n",
       "\n",
       "Magic functions are prefixed by % or %%, and typically take their arguments\n",
       "without parentheses, quotes or even commas for convenience.  Line magics take a\n",
       "single % and cell magics are prefixed with two %%.\n",
       "\n",
       "Example magic function calls:\n",
       "\n",
       "%alias d ls -F   : 'd' is now an alias for 'ls -F'\n",
       "alias d ls -F    : Works if 'alias' not a python name\n",
       "alist = %alias   : Get list of aliases to 'alist'\n",
       "cd /usr/share    : Obvious. cd -<tab> to choose from visited dirs.\n",
       "%cd??            : See help AND source for magic %cd\n",
       "%timeit x=10     : time the 'x=10' statement with high precision.\n",
       "%%timeit x=2**100\n",
       "x**100           : time 'x**100' with a setup of 'x=2**100'; setup code is not\n",
       "                   counted.  This is an example of a cell magic.\n",
       "\n",
       "System commands:\n",
       "\n",
       "!cp a.txt b/     : System command escape, calls os.system()\n",
       "cp a.txt b/      : after %rehashx, most system commands work without !\n",
       "cp ${f}.txt $bar : Variable expansion in magics and system commands\n",
       "files = !ls /usr : Capture system command output\n",
       "files.s, files.l, files.n: \"a b c\", ['a','b','c'], 'a\\nb\\nc'\n",
       "\n",
       "History:\n",
       "\n",
       "_i, _ii, _iii    : Previous, next previous, next next previous input\n",
       "_i4, _ih[2:5]    : Input history line 4, lines 2-4\n",
       "exec(_i81)       : Execute input history line #81 again\n",
       "%rep 81          : Edit input history line #81\n",
       "_, __, ___       : previous, next previous, next next previous output\n",
       "_dh              : Directory history\n",
       "_oh              : Output history\n",
       "%hist            : Command history of current session.\n",
       "%hist -g foo     : Search command history of (almost) all sessions for 'foo'.\n",
       "%hist -g         : Command history of (almost) all sessions.\n",
       "%hist 1/2-8      : Command history containing lines 2-8 of session 1.\n",
       "%hist 1/ ~2/     : Command history of session 1 and 2 sessions before current.\n",
       "%hist ~8/1-~6/5  : Command history from line 1 of 8 sessions ago to\n",
       "                   line 5 of 6 sessions ago.\n",
       "%edit 0/         : Open editor to execute code with history of current session.\n",
       "\n",
       "Autocall:\n",
       "\n",
       "f 1,2            : f(1,2)  # Off by default, enable with %autocall magic.\n",
       "/f 1,2           : f(1,2) (forced autoparen)\n",
       ",f 1 2           : f(\"1\",\"2\")\n",
       ";f 1 2           : f(\"1 2\")\n",
       "\n",
       "Remember: TAB completion works in many contexts, not just file names\n",
       "or python names.\n",
       "\n",
       "The following magic functions are currently available:\n",
       "\n",
       "%alias:\n",
       "    Define an alias for a system command.\n",
       "%alias_magic:\n",
       "    ::\n",
       "%autoawait:\n",
       "    \n",
       "%autocall:\n",
       "    Make functions callable without having to type parentheses.\n",
       "%automagic:\n",
       "    Make magic functions callable without having to type the initial %.\n",
       "%autosave:\n",
       "    Set the autosave interval in the notebook (in seconds).\n",
       "%bookmark:\n",
       "    Manage IPython's bookmark system.\n",
       "%cat:\n",
       "    Alias for `!cat`\n",
       "%cd:\n",
       "    Change the current working directory.\n",
       "%clear:\n",
       "    Clear the terminal.\n",
       "%code_wrap:\n",
       "    ::\n",
       "%colors:\n",
       "    Switch color scheme for prompts, info system and exception handlers.\n",
       "%conda:\n",
       "    Run the conda package manager within the current kernel.\n",
       "%config:\n",
       "    configure IPython\n",
       "%connect_info:\n",
       "    Print information for connecting other clients to this kernel\n",
       "%cp:\n",
       "    Alias for `!cp`\n",
       "%debug:\n",
       "    ::\n",
       "%dhist:\n",
       "    Print your history of visited directories.\n",
       "%dirs:\n",
       "    Return the current directory stack.\n",
       "%doctest_mode:\n",
       "    Toggle doctest mode on and off.\n",
       "%ed:\n",
       "    Alias for `%edit`.\n",
       "%edit:\n",
       "    Bring up an editor and execute the resulting code.\n",
       "%env:\n",
       "    Get, set, or list environment variables.\n",
       "%gui:\n",
       "    Enable or disable IPython GUI event loop integration.\n",
       "%hist:\n",
       "    Alias for `%history`.\n",
       "%history:\n",
       "    ::\n",
       "%killbgscripts:\n",
       "    Kill all BG processes started by %%script and its family.\n",
       "%ldir:\n",
       "    Alias for `!ls -F -o --color %l | grep /$`\n",
       "%less:\n",
       "    Show a file through the pager.\n",
       "%lf:\n",
       "    Alias for `!ls -F -o --color %l | grep ^-`\n",
       "%lk:\n",
       "    Alias for `!ls -F -o --color %l | grep ^l`\n",
       "%ll:\n",
       "    Alias for `!ls -F -o --color`\n",
       "%load:\n",
       "    Load code into the current frontend.\n",
       "%load_ext:\n",
       "    Load an IPython extension by its module name.\n",
       "%loadpy:\n",
       "    Alias of `%load`\n",
       "%logoff:\n",
       "    Temporarily stop logging.\n",
       "%logon:\n",
       "    Restart logging.\n",
       "%logstart:\n",
       "    Start logging anywhere in a session.\n",
       "%logstate:\n",
       "    Print the status of the logging system.\n",
       "%logstop:\n",
       "    Fully stop logging and close log file.\n",
       "%ls:\n",
       "    Alias for `!ls -F --color`\n",
       "%lsmagic:\n",
       "    List currently available magic functions.\n",
       "%lx:\n",
       "    Alias for `!ls -F -o --color %l | grep ^-..x`\n",
       "%macro:\n",
       "    Define a macro for future re-execution. It accepts ranges of history,\n",
       "%magic:\n",
       "    Print information about the magic function system.\n",
       "%mamba:\n",
       "    Run the mamba package manager within the current kernel.\n",
       "%man:\n",
       "    Find the man page for the given command and display in pager.\n",
       "%matplotlib:\n",
       "    ::\n",
       "%micromamba:\n",
       "    Run the conda package manager within the current kernel.\n",
       "%mkdir:\n",
       "    Alias for `!mkdir`\n",
       "%more:\n",
       "    Show a file through the pager.\n",
       "%mv:\n",
       "    Alias for `!mv`\n",
       "%notebook:\n",
       "    ::\n",
       "%page:\n",
       "    Pretty print the object and display it through a pager.\n",
       "%pastebin:\n",
       "    Upload code to dpaste.com, returning the URL.\n",
       "%pdb:\n",
       "    Control the automatic calling of the pdb interactive debugger.\n",
       "%pdef:\n",
       "    Print the call signature for any callable object.\n",
       "%pdoc:\n",
       "    Print the docstring for an object.\n",
       "%pfile:\n",
       "    Print (or run through pager) the file where an object is defined.\n",
       "%pinfo:\n",
       "    Provide detailed information about an object.\n",
       "%pinfo2:\n",
       "    Provide extra detailed information about an object.\n",
       "%pip:\n",
       "    Run the pip package manager within the current kernel.\n",
       "%popd:\n",
       "    Change to directory popped off the top of the stack.\n",
       "%pprint:\n",
       "    Toggle pretty printing on/off.\n",
       "%precision:\n",
       "    Set floating point precision for pretty printing.\n",
       "%prun:\n",
       "    Run a statement through the python code profiler.\n",
       "%psearch:\n",
       "    Search for object in namespaces by wildcard.\n",
       "%psource:\n",
       "    Print (or run through pager) the source code for an object.\n",
       "%pushd:\n",
       "    Place the current dir on stack and change directory.\n",
       "%pwd:\n",
       "    Return the current working directory path.\n",
       "%pycat:\n",
       "    Show a syntax-highlighted file through a pager.\n",
       "%pylab:\n",
       "    ::\n",
       "%qtconsole:\n",
       "    Open a qtconsole connected to this kernel.\n",
       "%quickref:\n",
       "    Show a quick reference sheet \n",
       "%recall:\n",
       "    Repeat a command, or get command to input line for editing.\n",
       "%rehashx:\n",
       "    Update the alias table with all executable files in $PATH.\n",
       "%reload_ext:\n",
       "    Reload an IPython extension by its module name.\n",
       "%rep:\n",
       "    Alias for `%recall`.\n",
       "%rerun:\n",
       "    Re-run previous input\n",
       "%reset:\n",
       "    Resets the namespace by removing all names defined by the user, if\n",
       "%reset_selective:\n",
       "    Resets the namespace by removing names defined by the user.\n",
       "%rm:\n",
       "    Alias for `!rm`\n",
       "%rmdir:\n",
       "    Alias for `!rmdir`\n",
       "%run:\n",
       "    Run the named file inside IPython as a program.\n",
       "%save:\n",
       "    Save a set of lines or a macro to a given filename.\n",
       "%sc:\n",
       "    Shell capture - run shell command and capture output (DEPRECATED use !).\n",
       "%set_env:\n",
       "    Set environment variables.  Assumptions are that either \"val\" is a\n",
       "%store:\n",
       "    Lightweight persistence for python variables.\n",
       "%sx:\n",
       "    Shell execute - run shell command and capture output (!! is short-hand).\n",
       "%system:\n",
       "    Shell execute - run shell command and capture output (!! is short-hand).\n",
       "%tb:\n",
       "    Print the last traceback.\n",
       "%time:\n",
       "    Time execution of a Python statement or expression.\n",
       "%timeit:\n",
       "    Time execution of a Python statement or expression\n",
       "%unalias:\n",
       "    Remove an alias\n",
       "%unload_ext:\n",
       "    Unload an IPython extension by its module name.\n",
       "%who:\n",
       "    Print all interactive variables, with some minimal formatting.\n",
       "%who_ls:\n",
       "    Return a sorted list of all interactive variables.\n",
       "%whos:\n",
       "    Like %who, but gives some extra information about each variable.\n",
       "%xdel:\n",
       "    Delete a variable, trying to clear it from anywhere that\n",
       "%xmode:\n",
       "    Switch modes for the exception handlers.\n",
       "%%!:\n",
       "    Shell execute - run shell command and capture output (!! is short-hand).\n",
       "%%HTML:\n",
       "    Alias for `%%html`.\n",
       "%%SVG:\n",
       "    Alias for `%%svg`.\n",
       "%%bash:\n",
       "    %%bash script magic\n",
       "%%capture:\n",
       "    ::\n",
       "%%code_wrap:\n",
       "    ::\n",
       "%%debug:\n",
       "    ::\n",
       "%%file:\n",
       "    Alias for `%%writefile`.\n",
       "%%html:\n",
       "    ::\n",
       "%%javascript:\n",
       "    Run the cell block of Javascript code\n",
       "%%js:\n",
       "    Run the cell block of Javascript code\n",
       "%%latex:\n",
       "    Render the cell as a block of LaTeX\n",
       "%%markdown:\n",
       "    Render the cell as Markdown text block\n",
       "%%perl:\n",
       "    %%perl script magic\n",
       "%%prun:\n",
       "    Run a statement through the python code profiler.\n",
       "%%pypy:\n",
       "    %%pypy script magic\n",
       "%%python:\n",
       "    %%python script magic\n",
       "%%python2:\n",
       "    %%python2 script magic\n",
       "%%python3:\n",
       "    %%python3 script magic\n",
       "%%ruby:\n",
       "    %%ruby script magic\n",
       "%%script:\n",
       "    ::\n",
       "%%sh:\n",
       "    %%sh script magic\n",
       "%%svg:\n",
       "    Render the cell as an SVG literal\n",
       "%%sx:\n",
       "    Shell execute - run shell command and capture output (!! is short-hand).\n",
       "%%system:\n",
       "    Shell execute - run shell command and capture output (!! is short-hand).\n",
       "%%time:\n",
       "    Time execution of a Python statement or expression.\n",
       "%%timeit:\n",
       "    Time execution of a Python statement or expression\n",
       "%%writefile:\n",
       "    ::\n"
      ]
     },
     "metadata": {},
     "output_type": "display_data"
    }
   ],
   "source": [
    "%quickref"
   ]
  },
  {
   "cell_type": "markdown",
   "id": "188677a9-3063-4914-9214-95c03abe4cc9",
   "metadata": {},
   "source": [
    "### Line Magics\n",
    "\n",
    "Line magics use a single ‘%’, and apply to a single line.\n",
    "\n",
    "### For example, we can time how long it takes to create a large list\n",
    "%timeit list(range(100000))"
   ]
  },
  {
   "cell_type": "code",
   "execution_count": 3,
   "id": "500856c9-e022-4676-8210-5df0015fd22d",
   "metadata": {},
   "outputs": [
    {
     "name": "stdout",
     "output_type": "stream",
     "text": [
      "302 µs ± 14.5 µs per loop (mean ± std. dev. of 7 runs, 1,000 loops each)\n"
     ]
    }
   ],
   "source": [
    "%timeit list(range(10000))"
   ]
  },
  {
   "cell_type": "markdown",
   "id": "0d5aa60e-2736-4c96-adc2-f4a76b17a655",
   "metadata": {
    "jp-MarkdownHeadingCollapsed": true
   },
   "source": [
    "Cell Magics\n",
    "\n",
    "Cell magics use a double ‘%%’, and apply to the whole cell.\n",
    "\n",
    "%%timeit\n",
    "### For example, we could time a whole cell\n",
    "a = list(range(100000))\n",
    "b = [n + 1 for n in a]"
   ]
  },
  {
   "cell_type": "markdown",
   "id": "cdc869b7-ad60-4c4e-b62d-723c657737ee",
   "metadata": {},
   "source": [
    "Running terminal commands\n",
    "\n",
    "Another nice thing about notebooks is being able to run terminals commands\n",
    "\n",
    "### You can run a terminal command by adding '!' to the start of the line\n",
    "!pwd\n",
    "\n",
    "### Note that in this case, '!pwd' is equivalent to line magic '%pwd'. \n",
    "### The '!' syntax is more general though, allowing you to run anything you want through command-line \n",
    "%%bash\n",
    "\n",
    "### Equivalently, (for bash) use the %%bash cell magic to run a cell as bash (command-line)\n",
    "pwd\n",
    "\n",
    "### List files in directory\n",
    "!ls\n",
    "\n",
    "### Change current directory\n",
    "!cd ."
   ]
  },
  {
   "cell_type": "code",
   "execution_count": 4,
   "id": "beab82d2-d44a-44ac-8c92-d4159531978b",
   "metadata": {
    "editable": true,
    "slideshow": {
     "slide_type": ""
    },
    "tags": []
   },
   "outputs": [],
   "source": [
    "%matplotlib inline\n",
    "\n",
    "import numpy as np\n",
    "import matplotlib.pyplot as plt"
   ]
  },
  {
   "cell_type": "markdown",
   "id": "25df42c3-41e6-406c-81b1-c0fa94c406c1",
   "metadata": {},
   "source": [
    "# Prediction\n",
    "\n",
    "### Estimate dogs weight based on its length"
   ]
  },
  {
   "cell_type": "code",
   "execution_count": 5,
   "id": "60a68c63-4f54-4be4-9d5b-0b4b96278e6d",
   "metadata": {},
   "outputs": [
    {
     "data": {
      "text/plain": [
       "[Text(0.5, 0, 'Length (cm)'),\n",
       " Text(0, 0.5, 'Weight (kg)'),\n",
       " (30.0, 125.0),\n",
       " (5.0, 25.0)]"
      ]
     },
     "execution_count": 5,
     "metadata": {},
     "output_type": "execute_result"
    },
    {
     "data": {
      "image/png": "[encoded data removed]",
      "text/plain": [
       "<Figure size 640x480 with 1 Axes>"
      ]
     },
     "metadata": {},
     "output_type": "display_data"
    }
   ],
   "source": [
    "lengths = [75, 50, 90, 115]    # cm's\n",
    "weights = [17.5, 10, 18, 20]   # kg's\n",
    "\n",
    "fig, ax = plt.subplots()\n",
    "ax.plot(lengths, weights, '.', ms = 15)\n",
    "ax.set(xlabel='Length (cm)', ylabel = 'Weight (kg)', xlim = [30,125], ylim = [5,25])"
   ]
  },
  {
   "cell_type": "code",
   "execution_count": 6,
   "id": "50f1b7bf-c97c-4f09-aa0c-684e0ccee1d9",
   "metadata": {},
   "outputs": [],
   "source": [
    "# Polyfit (degree=1) will fit a linear fit to the data, of the form y = ax + b\n",
    "#  Once we fit this simple model to the data, we can use it to predict from new data points\n",
    "\n",
    "a, b = np.polyfit(lengths, weights, 1)"
   ]
  },
  {
   "cell_type": "code",
   "execution_count": 7,
   "id": "9f5a8b6b-ed49-4b29-b773-fc6dc6d6e156",
   "metadata": {},
   "outputs": [
    {
     "name": "stdout",
     "output_type": "stream",
     "text": [
      "Predicted weight for a new data point, weight is 13.35.\n"
     ]
    }
   ],
   "source": [
    "new_length  = 62\n",
    "pred_weight = a * new_length + b\n",
    "\n",
    "print('Predicted weight for a new data point, weight is {:1.2f}.'.format(pred_weight))"
   ]
  },
  {
   "cell_type": "markdown",
   "id": "8e22483b-96dc-4c2e-9582-e17996f24e95",
   "metadata": {},
   "source": [
    "### To check how the prediction fits"
   ]
  },
  {
   "cell_type": "code",
   "execution_count": 8,
   "id": "89478dfa-a360-467a-80d9-abd4320001de",
   "metadata": {},
   "outputs": [
    {
     "data": {
      "text/plain": [
       "[<matplotlib.lines.Line2D at 0x72d0cb1d9cf0>]"
      ]
     },
     "execution_count": 8,
     "metadata": {},
     "output_type": "execute_result"
    }
   ],
   "source": [
    "ax.plot(new_length, pred_weight, '.r', ms = 15)"
   ]
  },
  {
   "cell_type": "code",
   "execution_count": 9,
   "id": "543079ac-f6dd-4616-9ea9-3fdd4fd21894",
   "metadata": {},
   "outputs": [
    {
     "data": {
      "image/png": "[encoded data removed]",
      "text/plain": [
       "<Figure size 640x480 with 1 Axes>"
      ]
     },
     "execution_count": 9,
     "metadata": {},
     "output_type": "execute_result"
    }
   ],
   "source": [
    "fig"
   ]
  },
  {
   "cell_type": "markdown",
   "id": "423e950f-86a8-4688-8671-b21d5ab93dfc",
   "metadata": {},
   "source": [
    "### If we actually know the true weight we can check the error, how good our prediction"
   ]
  },
  {
   "cell_type": "code",
   "execution_count": 10,
   "id": "4ee65d2a-a682-4479-a7c0-e14ce773c57f",
   "metadata": {},
   "outputs": [
    {
     "name": "stdout",
     "output_type": "stream",
     "text": [
      "The (absolute) error of our prediction is 1.35 kilograms.\n"
     ]
    }
   ],
   "source": [
    "actual_weight = 14.7\n",
    "\n",
    "error = actual_weight - pred_weight\n",
    "\n",
    "print('The (absolute) error of our prediction is {:1.2f} kilograms.'.format(error))"
   ]
  },
  {
   "cell_type": "markdown",
   "id": "5e43500a-64e4-4fed-aeec-7acd0c212819",
   "metadata": {},
   "source": [
    "# Classification\n",
    "\n",
    "Classification (or clustering) is the process of trying to discover a systematic organization of data."
   ]
  },
  {
   "cell_type": "markdown",
   "id": "cf06886b-a4e2-4266-af2d-21ed73d1ffba",
   "metadata": {},
   "source": [
    "Problem\n",
    "\n",
    "Let’s now imagine our local zoologist is investigating a group of squirrels.\n",
    "\n",
    "She would like to know how many different species there are present in the population. However, she only has a limited set of basic data to work with.\n",
    "\n",
    "We can try and cluster the data we have, and look for (what look like) meaningful groupings.\n",
    "\n",
    "In this case, let’s imagine we were able to weigh and measure a selection of squirrels that otherwise look about the same.\n",
    "\n",
    "Our task is then to analyze the data to see if there appear to be any meaningful groupings."
   ]
  },
  {
   "cell_type": "code",
   "execution_count": 11,
   "id": "d2cc06b5-89fa-4deb-bbde-ad2366dba020",
   "metadata": {},
   "outputs": [
    {
     "name": "stdout",
     "output_type": "stream",
     "text": [
      "1500.0\n"
     ]
    }
   ],
   "source": [
    "# We observe a bunch of squirrels with [height (cm), weight (grams)] pairs\n",
    "data = np.array([[10., 600.], [16., 1200], [6., 800], [12., 700.], [17., 1400.],\n",
    "                [8., 500.], [20., 1500.], [21., 1300.], [11., 800.], [18., 1100.]])\n",
    "print(data[:,1].max())"
   ]
  },
  {
   "cell_type": "code",
   "execution_count": 12,
   "id": "73cb074b-6c5c-490e-8223-b38475e8b50e",
   "metadata": {},
   "outputs": [
    {
     "data": {
      "text/plain": [
       "[Text(0.5, 0, 'Height(cm)'),\n",
       " Text(0, 0.5, 'Weight(g)'),\n",
       " (0.0, 25.0),\n",
       " (300.0, 1700.0)]"
      ]
     },
     "execution_count": 12,
     "metadata": {},
     "output_type": "execute_result"
    },
    {
     "data": {
      "image/png": "[encoded data removed]",
      "text/plain": [
       "<Figure size 640x480 with 1 Axes>"
      ]
     },
     "metadata": {},
     "output_type": "display_data"
    }
   ],
   "source": [
    "fig, ax = plt.subplots()\n",
    "ax.plot(data[:,0], data[:, 1], '.', ms = 12)\n",
    "#  ms hogy mekkora legyen a pont, ami itt a 12 ilyen ideális a 100 vicces\n",
    "ax.set(xlabel = 'Height(cm)', ylabel = 'Weight(g)', xlim=[0,25], ylim = [300,1700])"
   ]
  },
  {
   "cell_type": "markdown",
   "id": "32dbb594-9f80-4146-9908-88fd5617eed1",
   "metadata": {},
   "source": [
    "### importing classification algorithm"
   ]
  },
  {
   "cell_type": "code",
   "execution_count": 13,
   "id": "c06a0c49-aea5-48bc-a299-d9d5142dfe09",
   "metadata": {},
   "outputs": [],
   "source": [
    "from sklearn.cluster import KMeans"
   ]
  },
  {
   "cell_type": "code",
   "execution_count": 14,
   "id": "29b7303c-4df0-49dc-8516-40d1cb10a692",
   "metadata": {},
   "outputs": [],
   "source": [
    "# K-means is a partitioning method that divides a dataset into 'k' distinct, \n",
    "# non-overlapping subsets (clusters) based on similarity, ig that's why it is good for classification\n",
    "\n",
    "kmeans = KMeans(2).fit(data)"
   ]
  },
  {
   "cell_type": "code",
   "execution_count": 15,
   "id": "39ca418b-7d6c-4c7d-a2fc-39f2e68b75f3",
   "metadata": {},
   "outputs": [
    {
     "data": {
      "text/plain": [
       "array([1, 0, 1, 1, 0, 1, 0, 0, 1, 0], dtype=int32)"
      ]
     },
     "execution_count": 15,
     "metadata": {},
     "output_type": "execute_result"
    }
   ],
   "source": [
    "# this gives a label for every datapoint visible on the plot\n",
    "\n",
    "kmeans.labels_"
   ]
  },
  {
   "cell_type": "code",
   "execution_count": 16,
   "id": "d0a9861e-8b6e-4f62-87de-16930f44387d",
   "metadata": {},
   "outputs": [],
   "source": [
    "cl_1 = data[kmeans.labels_ == 0]\n",
    "cl_2 = data[kmeans.labels_ == 1]"
   ]
  },
  {
   "cell_type": "code",
   "execution_count": 19,
   "id": "e67b751a-5033-4657-a446-1af1a9de94cf",
   "metadata": {},
   "outputs": [
    {
     "data": {
      "text/plain": [
       "[Text(0.5, 0, 'Height(cm)'),\n",
       " Text(0, 0.5, 'Weight(g)'),\n",
       " (0.0, 25.0),\n",
       " (300.0, 1700.0)]"
      ]
     },
     "execution_count": 19,
     "metadata": {},
     "output_type": "execute_result"
    },
    {
     "data": {
      "image/png": "[encoded data removed]",
      "text/plain": [
       "<Figure size 640x480 with 1 Axes>"
      ]
     },
     "metadata": {},
     "output_type": "display_data"
    }
   ],
   "source": [
    "# 1) creates the empty koordinátarendszer\n",
    "fig, ax = plt.subplots()\n",
    "\n",
    "# 2) plot cluster 1\n",
    "ax.plot(cl_1[:,0], cl_1[:,1], '.b', ms=12)\n",
    "ax.plot(cl_2[:,0], cl_2[:,1], '.r', ms = 12)\n",
    "ax.set(xlabel = 'Height(cm)', ylabel= 'Weight(g)', xlim=[0,25], ylim = [300,1700])"
   ]
  },
  {
   "cell_type": "markdown",
   "id": "bba702c3-cace-4405-9d57-4100250d9fdc",
   "metadata": {},
   "source": [
    "this is a good partition, but not an evaluated classification\n",
    "\n",
    "unsupervised , we don't know the answer or have any labels"
   ]
  },
  {
   "cell_type": "markdown",
   "id": "d55c7bf6-6ab4-44d1-98ae-e451a2de728e",
   "metadata": {},
   "source": [
    "### Knowledge Discovery\n",
    "\n",
    "#### Knowledge Discovery is the attempt to learn new things about the world from data.\n",
    "\n",
    "Knowledge discovery is not necessarily methodologically distinct from prediction and classification. Seeking new knowledge will likely include analysis focused on classification and prediction, and other related analyses.\n",
    "\n",
    "However, we can consider that the data science problems can have different contexts and approaches. Asking how predict one known variable from another (such as a dog’s weight from it’s length), or to classify data into a previously known categorization scheme (such as labeling different kinds of species) are tasks that use data science to answer previously known questions.\n",
    "\n",
    "Sometimes, in data analyses, we also want to explore and discover new findings and ideas from a dataset without having pre-defined questions. We might try to ask about the structure of the data, or look for new patterns we didn’t know before. This is sometimes also called ‘exploratory data analysis’, as opposed to ‘hypothesis driven’ work."
   ]
  }
 ],
 "metadata": {
  "kernelspec": {
   "display_name": "Python 3 (ipykernel)",
   "language": "python",
   "name": "python3"
  },
  "language_info": {
   "codemirror_mode": {
    "name": "ipython",
    "version": 3
   },
   "file_extension": ".py",
   "mimetype": "text/x-python",
   "name": "python",
   "nbconvert_exporter": "python",
   "pygments_lexer": "ipython3",
   "version": "3.10.12"
  }
 },
 "nbformat": 4,
 "nbformat_minor": 5
}
